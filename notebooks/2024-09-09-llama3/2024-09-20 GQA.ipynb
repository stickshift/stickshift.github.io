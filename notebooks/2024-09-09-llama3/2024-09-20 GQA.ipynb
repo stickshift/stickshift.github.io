{
 "cells": [
  {
   "cell_type": "markdown",
   "id": "c6342a71-6608-4568-9cba-db8746216f0e",
   "metadata": {},
   "source": [
    "# GQA"
   ]
  },
  {
   "cell_type": "markdown",
   "id": "230daccc-91ab-407c-89e6-89316c7df360",
   "metadata": {},
   "source": [
    "# Setup"
   ]
  },
  {
   "cell_type": "code",
   "execution_count": 1,
   "id": "0cd52082-95c9-49c2-ab6a-7b9fa9674cf4",
   "metadata": {},
   "outputs": [],
   "source": [
    "import sys\n",
    "import warnings\n",
    "\n",
    "from matplotlib import pyplot as plt\n",
    "from matplotlib.patches import Rectangle\n",
    "from matplotlib.transforms import ScaledTranslation, Affine2D\n",
    "import seaborn as sns\n",
    "import torch"
   ]
  },
  {
   "cell_type": "code",
   "execution_count": 2,
   "id": "990d65a8-0bcf-470b-a105-6e4954bcc194",
   "metadata": {},
   "outputs": [],
   "source": [
    "# Ignore all warnings\n",
    "warnings.filterwarnings(\"ignore\")\n",
    "\n",
    "# Torch display options\n",
    "torch.set_printoptions(linewidth=120)"
   ]
  },
  {
   "cell_type": "markdown",
   "id": "8785c302-82be-4be4-98a8-f421ee0c27fc",
   "metadata": {},
   "source": [
    "# Hyperparams"
   ]
  },
  {
   "cell_type": "code",
   "execution_count": 31,
   "id": "4267b210-a676-4526-8ad3-9b186cc9ca37",
   "metadata": {},
   "outputs": [],
   "source": [
    "d_model = 16\n",
    "n_query_heads = 8\n",
    "d_head = d_model // n_query_heads\n",
    "n_kv_heads = 2\n",
    "n = 1\n",
    "dpi = plt.rcParams['figure.dpi']"
   ]
  },
  {
   "cell_type": "code",
   "execution_count": null,
   "id": "f763fe9c-0b06-4551-bd6c-ff7ba2d40c29",
   "metadata": {},
   "outputs": [],
   "source": []
  },
  {
   "cell_type": "markdown",
   "id": "28974cd1-f797-4733-94d4-7ddd402b0098",
   "metadata": {},
   "source": [
    "# Embeddings\n",
    "\n",
    "Simulate embeddings."
   ]
  },
  {
   "cell_type": "code",
   "execution_count": 32,
   "id": "5c84f725-20d1-4b50-bde7-b99748bb1c9d",
   "metadata": {
    "jupyter": {
     "source_hidden": true
    }
   },
   "outputs": [],
   "source": [
    "ROW_MASK = 0x00000000000000ff\n",
    "ROW_SHIFT = 0\n",
    "\n",
    "def row(value):\n",
    "    return (value & ROW_MASK) >> ROW_SHIFT\n",
    "\n",
    "def set_row(value, v):\n",
    "    return (value & ~ROW_MASK) | (v << ROW_SHIFT)\n",
    "\n",
    "\n",
    "COL_MASK = 0x000000000000ff00\n",
    "COL_SHIFT = 8\n",
    "\n",
    "def col(value):\n",
    "    return (value & COL_MASK) >> COL_SHIFT\n",
    "\n",
    "def set_col(value, v):\n",
    "    return (value & ~COL_MASK) | (v << COL_SHIFT) \n",
    "\n",
    "POSITION_MASK = 0x0000000000ff0000\n",
    "POSITION_SHIFT = 16\n",
    "\n",
    "def position(value):\n",
    "    return (value & POSITION_MASK) >> POSITION_SHIFT\n",
    "\n",
    "def set_position(value, v):\n",
    "    return (value & ~POSITION_MASK) | (v << POSITION_SHIFT)\n",
    "\n",
    "\n",
    "DIMENSION_MASK = 0x00000000ff000000\n",
    "DIMENSION_SHIFT = 24\n",
    "\n",
    "def dimension(value):\n",
    "    return (value & DIMENSION_MASK) >> DIMENSION_SHIFT\n",
    "\n",
    "def set_dimension(value, v):\n",
    "    return (value & ~DIMENSION_MASK) | (v << DIMENSION_SHIFT) \n",
    "\n",
    "\n",
    "HEAD_MASK = 0x000000ff00000000\n",
    "HEAD_SHIFT = 32\n",
    "\n",
    "def head(value):\n",
    "    return (value & HEAD_MASK) >> HEAD_SHIFT\n",
    "\n",
    "def set_head(value, v):\n",
    "    return (value & ~HEAD_MASK) | (v << HEAD_SHIFT)\n",
    "\n",
    "\n",
    "CELL_SIZE = 48\n",
    "CELL_PADDING = 16\n",
    "CELL_OFFSET = CELL_SIZE + CELL_PADDING\n",
    "\n",
    "\n",
    "def plot_cell(value, ax, transform):\n",
    "\n",
    "    r = row(value)\n",
    "    c = col(value)\n",
    "    \n",
    "    p = sns.color_palette()\n",
    "    x = CELL_OFFSET*c\n",
    "    y = CELL_OFFSET*(n - 1 - r)\n",
    "    h = head(value)\n",
    "    color = \"white\" if h == 0 else p[h-1]\n",
    "\n",
    "    # Translate x, y\n",
    "    transform = transform + Affine2D().translate(x, y)\n",
    "\n",
    "    # Convert data to screen\n",
    "    transform = transform + ax.transData\n",
    "\n",
    "    # Cell at 0, 0\n",
    "    ax.add_artist(Rectangle((0, 0), CELL_SIZE, CELL_SIZE, facecolor=color, edgecolor=\"black\", transform=transform))\n",
    "\n",
    "    # dimension\n",
    "    text = f\"{dimension(value)}\"\n",
    "    center_x = CELL_SIZE / 2\n",
    "    center_y = CELL_SIZE / 2\n",
    "    ax.text(center_x, center_y, text, ha=\"center\", va=\"center\", fontsize=10, color=\"black\", transform=transform)\n",
    "\n",
    "\n",
    "def plot_embeddings(x):\n",
    "\n",
    "    # Plot size\n",
    "    plot_size = d_model * CELL_OFFSET + CELL_PADDING\n",
    "    \n",
    "    # Create plot_size x plot_size figure\n",
    "    fig, ax = plt.subplots(figsize=(plot_size/dpi,plot_size/dpi))\n",
    "    ax.set_aspect(1)\n",
    "    ax.set_xlim([0, plot_size])\n",
    "    ax.set_ylim([0, n*CELL_OFFSET + CELL_PADDING])\n",
    "    ax.set_axis_off()\n",
    "    \n",
    "    transform = Affine2D()\n",
    "\n",
    "    # Plot margin\n",
    "    transform = transform + Affine2D().translate(CELL_PADDING, CELL_PADDING)\n",
    "\n",
    "    # Plot each value in x\n",
    "    for v in torch.flatten(x):\n",
    "        plot_cell(v, ax=ax, transform=transform)"
   ]
  },
  {
   "cell_type": "code",
   "execution_count": 40,
   "id": "af1bf285-c1c3-479d-990d-5416db0c3247",
   "metadata": {},
   "outputs": [],
   "source": [
    "ROW_MASK = 0x00000000000000ff\n",
    "ROW_SHIFT = 0\n",
    "\n",
    "def row(value):\n",
    "    return (value & ROW_MASK) >> ROW_SHIFT\n",
    "\n",
    "def set_row(value, v):\n",
    "    return (value & ~ROW_MASK) | (v << ROW_SHIFT)\n",
    "\n",
    "\n",
    "COL_MASK = 0x000000000000ff00\n",
    "COL_SHIFT = 8\n",
    "\n",
    "def col(value):\n",
    "    return (value & COL_MASK) >> COL_SHIFT\n",
    "\n",
    "def set_col(value, v):\n",
    "    return (value & ~COL_MASK) | (v << COL_SHIFT) \n",
    "\n",
    "POSITION_MASK = 0x0000000000ff0000\n",
    "POSITION_SHIFT = 16\n",
    "\n",
    "def position(value):\n",
    "    return (value & POSITION_MASK) >> POSITION_SHIFT\n",
    "\n",
    "def set_position(value, v):\n",
    "    return (value & ~POSITION_MASK) | (v << POSITION_SHIFT)\n",
    "\n",
    "\n",
    "DIMENSION_MASK = 0x00000000ff000000\n",
    "DIMENSION_SHIFT = 24\n",
    "\n",
    "def dimension(value):\n",
    "    return (value & DIMENSION_MASK) >> DIMENSION_SHIFT\n",
    "\n",
    "def set_dimension(value, v):\n",
    "    return (value & ~DIMENSION_MASK) | (v << DIMENSION_SHIFT) \n",
    "\n",
    "\n",
    "HEAD_MASK = 0x000000ff00000000\n",
    "HEAD_SHIFT = 32\n",
    "\n",
    "def head(value):\n",
    "    return (value & HEAD_MASK) >> HEAD_SHIFT\n",
    "\n",
    "def set_head(value, v):\n",
    "    return (value & ~HEAD_MASK) | (v << HEAD_SHIFT)\n",
    "\n",
    "\n",
    "CELL_SIZE = 48\n",
    "CELL_PADDING = 16\n",
    "CELL_OFFSET = CELL_SIZE + CELL_PADDING\n",
    "\n",
    "\n",
    "def plot_cell(value, ax, transform):\n",
    "\n",
    "    p = sns.color_palette()\n",
    "    h = head(value)\n",
    "    color = \"white\" if h == 0 else p[h-1]\n",
    "\n",
    "    # Convert data to screen\n",
    "    transform = transform + ax.transData\n",
    "\n",
    "    # Cell at 0, 0\n",
    "    ax.add_artist(Rectangle((0, 0), CELL_SIZE, CELL_SIZE, facecolor=color, edgecolor=\"black\", transform=transform))\n",
    "\n",
    "    # # dimension\n",
    "    text = f\"{dimension(value)}\"\n",
    "    center_x = CELL_SIZE / 2\n",
    "    center_y = CELL_SIZE / 2\n",
    "    ax.text(center_x, center_y, text, ha=\"center\", va=\"center\", fontsize=10, color=\"black\", transform=transform)\n",
    "\n",
    "\n",
    "def plot_embeddings(x):\n",
    "\n",
    "    # Plot size\n",
    "    plot_size = d_model * CELL_OFFSET + CELL_PADDING\n",
    "    \n",
    "    # Create plot_size x plot_size figure\n",
    "    fig, ax = plt.subplots(figsize=(plot_size/dpi,plot_size/dpi))\n",
    "    ax.set_aspect(1)\n",
    "    ax.set_xlim([0, plot_size])\n",
    "    ax.set_ylim([0, n*CELL_OFFSET + CELL_PADDING])\n",
    "    ax.set_axis_off()\n",
    "\n",
    "    # Start w/ identity\n",
    "    transform = Affine2D()\n",
    "\n",
    "    # Plot margin\n",
    "    transform = transform + Affine2D().translate(CELL_PADDING, CELL_PADDING)\n",
    "\n",
    "    # Make sure x always has 3 dimensions (h, n, d)\n",
    "    if len(x.shape) == 2:\n",
    "        x = x.unsqueeze(0)\n",
    "    assert len(x.shape) == 3\n",
    "\n",
    "    # Heads\n",
    "    for h in range(x.shape[0]):\n",
    "        head_transform = transform + Affine2D().translate(h*CELL_OFFSET, 0)\n",
    "        \n",
    "        # Rows\n",
    "        for r in range(x.shape[1]):\n",
    "            row_transform = head_transform + Affine2D().translate(0, r*CELL_OFFSET)\n",
    "            \n",
    "            # Cols\n",
    "            for c in range(x.shape[2]):\n",
    "                col_transform = row_transform + Affine2D().translate(c*CELL_OFFSET, 0)\n",
    "                print(f\"{h}, {r}, {c}\")\n",
    "                plot_cell(x[h, r, c], ax=ax, transform=col_transform)"
   ]
  },
  {
   "cell_type": "code",
   "execution_count": 41,
   "id": "b3056922-d084-477a-8970-f887198416e2",
   "metadata": {
    "jupyter": {
     "source_hidden": true
    }
   },
   "outputs": [],
   "source": [
    "def embeddings(n, d):\n",
    "    # Simulate n x d embeddings\n",
    "    values = []\n",
    "    for i in range(n):\n",
    "        for j in range(d):\n",
    "            value = 0\n",
    "            value = set_col(value, j)\n",
    "            value = set_row(value, i)\n",
    "            value = set_dimension(value, j)\n",
    "            value = set_position(value, i)\n",
    "            values.append(value)\n",
    "    \n",
    "    x = torch.tensor(values).reshape(n, -1)\n",
    "\n",
    "    return x\n",
    "\n",
    "\n",
    "def split_heads(x, n_heads):\n",
    "\n",
    "    # Split heads\n",
    "    x = x.view(-1, n_heads, d_head).transpose(-3, -2)\n",
    "    \n",
    "    # Assign color by head\n",
    "    for h in range(n_heads):\n",
    "        n = x[h].shape[0]\n",
    "        d = x[h].shape[1]\n",
    "        \n",
    "        for i in range(n):\n",
    "            for j in range(d):\n",
    "                x[h, i, j] = set_head(x[h, i, j].item(), h+1)\n",
    "    \n",
    "    return x\n",
    "\n",
    "\n",
    "def combine_heads(x, n_heads):\n",
    "    # Combine heads\n",
    "    x = x.transpose(-3, -2).contiguous().view(-1, int(n_heads * d_head))\n",
    "\n",
    "    # Clear heads\n",
    "    n = x.shape[0]\n",
    "    d = x.shape[1]\n",
    "    \n",
    "    for i in range(n):\n",
    "        for j in range(d):\n",
    "            x[i, j] = set_head(x[i, j].item(), 0)\n",
    "\n",
    "    return x\n"
   ]
  },
  {
   "cell_type": "markdown",
   "id": "7efc6fd5-5cdb-4d1c-860a-7eda73eddfcb",
   "metadata": {},
   "source": [
    "# Queries, Keys, Values"
   ]
  },
  {
   "cell_type": "code",
   "execution_count": 42,
   "id": "9c0cb511-7e73-4d43-bfaa-7d5340674f99",
   "metadata": {},
   "outputs": [
    {
     "data": {
      "text/plain": [
       "(torch.Size([1, 16]), torch.Size([1, 4]))"
      ]
     },
     "execution_count": 42,
     "metadata": {},
     "output_type": "execute_result"
    }
   ],
   "source": [
    "# Generate embeddings\n",
    "q = embeddings(n, n_query_heads*d_head)\n",
    "k = embeddings(n, n_kv_heads*d_head)\n",
    "\n",
    "q.shape, k.shape"
   ]
  },
  {
   "cell_type": "code",
   "execution_count": 43,
   "id": "bdd5b95b-ca1f-463a-9f00-447b92f75df4",
   "metadata": {},
   "outputs": [
    {
     "name": "stdout",
     "output_type": "stream",
     "text": [
      "0, 0, 0\n",
      "0, 0, 1\n",
      "0, 0, 2\n",
      "0, 0, 3\n",
      "0, 0, 4\n",
      "0, 0, 5\n",
      "0, 0, 6\n",
      "0, 0, 7\n",
      "0, 0, 8\n",
      "0, 0, 9\n",
      "0, 0, 10\n",
      "0, 0, 11\n",
      "0, 0, 12\n",
      "0, 0, 13\n",
      "0, 0, 14\n",
      "0, 0, 15\n"
     ]
    },
    {
     "data": {
      "image/png": "[encoded data removed]",
      "text/plain": [
       "<Figure size 1040x1040 with 1 Axes>"
      ]
     },
     "metadata": {},
     "output_type": "display_data"
    }
   ],
   "source": [
    "plot_embeddings(q)"
   ]
  },
  {
   "cell_type": "code",
   "execution_count": 44,
   "id": "66986598-a3e6-4dcb-a722-a99b932522d0",
   "metadata": {},
   "outputs": [
    {
     "name": "stdout",
     "output_type": "stream",
     "text": [
      "0, 0, 0\n",
      "0, 0, 1\n",
      "0, 0, 2\n",
      "0, 0, 3\n"
     ]
    },
    {
     "data": {
      "image/png": "[encoded data removed]",
      "text/plain": [
       "<Figure size 1040x1040 with 1 Axes>"
      ]
     },
     "metadata": {},
     "output_type": "display_data"
    }
   ],
   "source": [
    "plot_embeddings(k)"
   ]
  },
  {
   "cell_type": "code",
   "execution_count": 45,
   "id": "6c4a6070-e49c-43fe-988a-4ffb6e1d2196",
   "metadata": {},
   "outputs": [
    {
     "data": {
      "text/plain": [
       "(torch.Size([8, 1, 2]), torch.Size([2, 1, 2]))"
      ]
     },
     "execution_count": 45,
     "metadata": {},
     "output_type": "execute_result"
    }
   ],
   "source": [
    "# Split attention heads\n",
    "q = split_heads(q, n_query_heads)\n",
    "k = split_heads(k, n_kv_heads)\n",
    "\n",
    "q.shape, k.shape"
   ]
  },
  {
   "cell_type": "code",
   "execution_count": 46,
   "id": "975a2b9c-9be4-4b8e-b474-49ab82e9917b",
   "metadata": {},
   "outputs": [
    {
     "name": "stdout",
     "output_type": "stream",
     "text": [
      "0, 0, 0\n",
      "0, 0, 1\n",
      "1, 0, 0\n",
      "1, 0, 1\n",
      "2, 0, 0\n",
      "2, 0, 1\n",
      "3, 0, 0\n",
      "3, 0, 1\n",
      "4, 0, 0\n",
      "4, 0, 1\n",
      "5, 0, 0\n",
      "5, 0, 1\n",
      "6, 0, 0\n",
      "6, 0, 1\n",
      "7, 0, 0\n",
      "7, 0, 1\n"
     ]
    },
    {
     "data": {
      "image/png": "[encoded data removed]",
      "text/plain": [
       "<Figure size 1040x1040 with 1 Axes>"
      ]
     },
     "metadata": {},
     "output_type": "display_data"
    }
   ],
   "source": [
    "plot_embeddings(q)"
   ]
  },
  {
   "cell_type": "code",
   "execution_count": 11,
   "id": "43e13e60-6a3f-4e45-8c08-08f6b115031c",
   "metadata": {},
   "outputs": [
    {
     "data": {
      "image/png": "[encoded data removed]",
      "text/plain": [
       "<Figure size 1040x1040 with 1 Axes>"
      ]
     },
     "metadata": {},
     "output_type": "display_data"
    }
   ],
   "source": [
    "plot_embeddings(k)"
   ]
  },
  {
   "cell_type": "code",
   "execution_count": 12,
   "id": "42caa4e9-7578-4261-a788-7197f95bcf46",
   "metadata": {},
   "outputs": [
    {
     "data": {
      "text/plain": [
       "torch.Size([8, 2, 2])"
      ]
     },
     "execution_count": 12,
     "metadata": {},
     "output_type": "execute_result"
    }
   ],
   "source": [
    "# Expand key/value heads\n",
    "nreps = n_query_heads // n_kv_heads\n",
    "k = k.repeat_interleave(nreps, dim=0)\n",
    "\n",
    "# Update head, row / col\n",
    "for h in range(k.shape[-3]):\n",
    "    for i in range(k.shape[-2]):\n",
    "        for j in range(k.shape[-1]):\n",
    "            value = k[h, i, j].item()\n",
    "            value = set_row(value, i)\n",
    "            value = set_col(value, h*k.shape[-1] + j)\n",
    "            value = set_head(value, h + 1)            \n",
    "            k[h, i, j] = value\n",
    "\n",
    "k.shape"
   ]
  },
  {
   "cell_type": "code",
   "execution_count": 13,
   "id": "1ba28d1e-1ff6-4b17-b44c-186173244042",
   "metadata": {},
   "outputs": [
    {
     "data": {
      "image/png": "[encoded data removed]",
      "text/plain": [
       "<Figure size 1040x1040 with 1 Axes>"
      ]
     },
     "metadata": {},
     "output_type": "display_data"
    }
   ],
   "source": [
    "plot_embeddings(k)"
   ]
  },
  {
   "cell_type": "code",
   "execution_count": 14,
   "id": "1b9a64dc-e2a0-4791-97bd-d784eafa8a77",
   "metadata": {},
   "outputs": [
    {
     "data": {
      "text/plain": [
       "(torch.Size([2, 16]), torch.Size([8, 4]))"
      ]
     },
     "execution_count": 14,
     "metadata": {},
     "output_type": "execute_result"
    }
   ],
   "source": [
    "# Combine\n",
    "q = combine_heads(q, n_query_heads)\n",
    "k = combine_heads(k, n_kv_heads)\n",
    "\n",
    "q.shape, k.shape"
   ]
  },
  {
   "cell_type": "code",
   "execution_count": 15,
   "id": "5dd20f76-1abd-43ea-bc4d-9870f64d3063",
   "metadata": {},
   "outputs": [
    {
     "data": {
      "image/png": "[encoded data removed]",
      "text/plain": [
       "<Figure size 1040x1040 with 1 Axes>"
      ]
     },
     "metadata": {},
     "output_type": "display_data"
    }
   ],
   "source": [
    "plot_embeddings(q)"
   ]
  },
  {
   "cell_type": "code",
   "execution_count": 16,
   "id": "6c9ffd09-4203-4dc3-8aa2-7dd1738c7d92",
   "metadata": {},
   "outputs": [
    {
     "data": {
      "image/png": "[encoded data removed]",
      "text/plain": [
       "<Figure size 1040x1040 with 1 Axes>"
      ]
     },
     "metadata": {},
     "output_type": "display_data"
    }
   ],
   "source": [
    "plot_embeddings(k)"
   ]
  },
  {
   "cell_type": "code",
   "execution_count": null,
   "id": "c757a412-0199-4910-8648-2ccf845fd6d5",
   "metadata": {},
   "outputs": [],
   "source": []
  }
 ],
 "metadata": {
  "kernelspec": {
   "display_name": "Python 3 (ipykernel)",
   "language": "python",
   "name": "python3"
  },
  "language_info": {
   "codemirror_mode": {
    "name": "ipython",
    "version": 3
   },
   "file_extension": ".py",
   "mimetype": "text/x-python",
   "name": "python",
   "nbconvert_exporter": "python",
   "pygments_lexer": "ipython3",
   "version": "3.12.4"
  }
 },
 "nbformat": 4,
 "nbformat_minor": 5
}
