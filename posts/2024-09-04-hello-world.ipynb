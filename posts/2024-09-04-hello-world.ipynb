{
 "cells": [
  {
   "cell_type": "markdown",
   "id": "f3354fa8-7b45-48ae-90c9-a3c8a1eda71c",
   "metadata": {},
   "source": [
    "Hello world $QK^T$!"
   ]
  },
  {
   "cell_type": "code",
   "execution_count": null,
   "id": "02df6e63-f188-4ef4-8de0-3cd975a0faf7",
   "metadata": {},
   "outputs": [],
   "source": []
  }
 ],
 "metadata": {
  "kernelspec": {
   "display_name": "Python 3 (ipykernel)",
   "language": "python",
   "name": "python3"
  },
  "language_info": {
   "codemirror_mode": {
    "name": "ipython",
    "version": 3
   },
   "file_extension": ".py",
   "mimetype": "text/x-python",
   "name": "python",
   "nbconvert_exporter": "python",
   "pygments_lexer": "ipython3",
   "version": "3.12.4"
  }
 },
 "nbformat": 4,
 "nbformat_minor": 5
}
