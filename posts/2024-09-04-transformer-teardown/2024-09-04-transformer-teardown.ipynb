{
 "cells": [
  {
   "cell_type": "markdown",
   "id": "d7628c47-f092-445a-a823-5d419668693f",
   "metadata": {
    "editable": true,
    "slideshow": {
     "slide_type": ""
    },
    "tags": [
     "skip-publish"
    ]
   },
   "source": [
    "# Transformer Teardown: DistilBERT\n",
    "\n",
    "> Tracing an inference from raw data to prediction"
   ]
  },
  {
   "cell_type": "markdown",
   "id": "b7f5ba7e-2021-4bdd-8d1a-4777fdb9e87e",
   "metadata": {},
   "source": [
    "<img src=\"banner-circuit-trail.png\" class=\"stickshift-figure\" width=\"800\">\n",
    "\n",
    "I loved taking things apart as a kid. Especially discarded electronics. I used to keep a pile of the circuit boards I scavenged in my closet. If I stacked them together the right way, I was convinced I could build my own C-3PO.\n",
    "\n",
    "As an adult, I still like taking things apart. Methodically dissecting, cataloging, and rebuilding helps me wrap my brain around new technology. Especially the hardcore stuff like LLMs and the Transformers that power them.\n",
    "\n",
    "While there are a million papers, blogs, and tutorials written on Transformers, I still find it challenging to map the abstract ideas from the research literature into concrete, actionable steps you can experiment with. My engineer's brain wants to \"see the code\" behind high level concepts like embeddings, residuals, and multi-head self-attention. Yes, it's easy to find open source Transformer implementations, but they're often overloaded with configuration settings to the point that the main ideas are completely obscured.\n",
    "\n",
    "The goal of this post is to give you a stronger sense of the Transformer machinery powering the AI revolution. We'll dissect Hugging Face's default text-classification model, lay all the pieces on the table, and then trace a single inference through the stack from raw data to final prediction. We'll illustrate the main ideas from the Transformer literature with minimal, straightforward, working Python code. You may be surprised by how few steps are required!\n",
    "\n",
    "All of the code for this post is available in [GitHub](https://github.com/stickshift/stickshift.github.io/blob/main/posts/2024-09-04-transformer-teardown/2024-09-04-transformer-teardown.ipynb) but it's a lot easier to [read with nbviewer](https://nbviewer.org/github/stickshift/stickshift.github.io/blob/main/posts/2024-09-04-transformer-teardown/2024-09-04-transformer-teardown.ipynb)!"
   ]
  },
  {
   "cell_type": "markdown",
   "id": "973f5496-2f6a-46b5-bd9b-f874e68ac4f7",
   "metadata": {
    "jp-MarkdownHeadingCollapsed": true,
    "tags": [
     "skip-publish"
    ]
   },
   "source": [
    "# Setup"
   ]
  },
  {
   "cell_type": "code",
   "execution_count": 1,
   "id": "f4b52cfc-e02e-4b70-aecf-c0962354fee8",
   "metadata": {
    "tags": [
     "skip-publish"
    ]
   },
   "outputs": [],
   "source": [
    "import warnings\n",
    "\n",
    "from matplotlib import pyplot as plt\n",
    "import seaborn as sns\n",
    "import numpy as np\n",
    "from pytest import approx\n",
    "import torch\n",
    "from torch import nn\n",
    "from torch.nn.functional import relu, softmax\n",
    "import transformers\n",
    "\n",
    "from stickshift import default_arg, take\n",
    "from stickshift.models import distilbert"
   ]
  },
  {
   "cell_type": "code",
   "execution_count": 2,
   "id": "5f68eaaf-2117-48d2-8623-f90d5a035452",
   "metadata": {
    "tags": [
     "skip-publish"
    ]
   },
   "outputs": [],
   "source": [
    "# Ignore all warnings\n",
    "warnings.filterwarnings(\"ignore\")\n",
    "\n",
    "# Configure gpu\n",
    "device = torch.device(\"cpu\")\n",
    "if torch.cuda.is_available():\n",
    "    device = torch.device(\"cuda\")\n",
    "elif torch.backends.mps.is_available():\n",
    "    device = torch.device(\"mps\")"
   ]
  },
  {
   "cell_type": "markdown",
   "id": "ae509a70-4087-47a7-b587-3aaef0ab9b71",
   "metadata": {},
   "source": [
    "# Text Classification with DistilBERT\n",
    "\n",
    "If you've worked with Transformers at all, I'm sure you're familiar with Hugging Face's collection of Python libraries as well as their endless repository of models and datasets. Throughout the post, we'll be working with Hugging Face's default text classification model DistilBERT. DistilBERT is a smaller, faster, lighter-weight version of the original BERT model that's easier to experiment with. We'll use the pre-trained model parameters from Hugging Face, but we'll implement the model's logic step-by-step in Jupyter using a slightly modified version of the actual DistilBERT PyTorch implementation from Hugging Face's `transformers` library."
   ]
  },
  {
   "cell_type": "markdown",
   "id": "18a45264-ad56-4656-bdc2-bcc55836ebd4",
   "metadata": {},
   "source": [
    "Before we get into the implementation, let's start by running the entire process end-to-end using Hugging Face's high level `pipeline` API. The following cells create a complete text classification pipeline and then apply it to the sentence \"I love ice cream\". As you might expect, the model classifies the sentence as overwhelmingly positive. Over the rest of the post, we'll break this prediction down and recreate it one step at a time."
   ]
  },
  {
   "cell_type": "code",
   "execution_count": 3,
   "id": "14efe2e6-d089-4abb-8726-5fe4edb8d451",
   "metadata": {},
   "outputs": [
    {
     "name": "stderr",
     "output_type": "stream",
     "text": [
      "No model was supplied, defaulted to distilbert/distilbert-base-uncased-finetuned-sst-2-english and revision af0f99b (https://huggingface.co/distilbert/distilbert-base-uncased-finetuned-sst-2-english).\n",
      "Using a pipeline without specifying a model name and revision in production is not recommended.\n"
     ]
    }
   ],
   "source": [
    "# Create off-the-shelf text classification transformer\n",
    "transformer = transformers.pipeline(\"text-classification\", device=device)"
   ]
  },
  {
   "cell_type": "code",
   "execution_count": 4,
   "id": "78cc7338-7f84-45fa-a659-5f3bd8cc2169",
   "metadata": {},
   "outputs": [
    {
     "data": {
      "text/plain": [
       "[{'label': 'POSITIVE', 'score': 0.9998118281364441}]"
      ]
     },
     "execution_count": 4,
     "metadata": {},
     "output_type": "execute_result"
    }
   ],
   "source": [
    "transformer(\"I love ice cream\")"
   ]
  },
  {
   "cell_type": "code",
   "execution_count": 5,
   "id": "cd36e702-ffcf-4069-bd13-64f6c18ee8ee",
   "metadata": {
    "tags": [
     "skip-publish"
    ]
   },
   "outputs": [],
   "source": [
    "# Load model config and pre-trained parameters\n",
    "config = distilbert.config(transformer.model)\n",
    "parameters = transformer.model.state_dict()"
   ]
  },
  {
   "cell_type": "code",
   "execution_count": 6,
   "id": "fc2126e9-eec2-458a-9215-b6fb927d7e83",
   "metadata": {
    "tags": [
     "skip-publish"
    ]
   },
   "outputs": [],
   "source": [
    "def load_state(*args, layer=None):\n",
    "    # Defaults\n",
    "    layer = default_arg(layer, lambda: 0)\n",
    "\n",
    "    for module, key in take(2, args):\n",
    "        match key:\n",
    "            case \"value_embeddings\":\n",
    "                module.load_state_dict({\n",
    "                    \"weight\": parameters[\"distilbert.embeddings.word_embeddings.weight\"],\n",
    "                })\n",
    "            case \"position_embeddings\":\n",
    "                module.load_state_dict({\n",
    "                    \"weight\": parameters[\"distilbert.embeddings.position_embeddings.weight\"],\n",
    "                })\n",
    "            case \"normalize_embeddings\":\n",
    "                module.load_state_dict({\n",
    "                    \"weight\": parameters[\"distilbert.embeddings.LayerNorm.weight\"], \n",
    "                    \"bias\": parameters[\"distilbert.embeddings.LayerNorm.bias\"],\n",
    "                })\n",
    "            case \"queries\":\n",
    "                module.load_state_dict({\n",
    "                    \"weight\": parameters[f\"distilbert.transformer.layer.{layer}.attention.q_lin.weight\"],\n",
    "                    \"bias\": parameters[f\"distilbert.transformer.layer.{layer}.attention.q_lin.bias\"],\n",
    "                })\n",
    "            case \"keys\":\n",
    "                module.load_state_dict({\n",
    "                    \"weight\": parameters[f\"distilbert.transformer.layer.{layer}.attention.k_lin.weight\"],\n",
    "                    \"bias\": parameters[f\"distilbert.transformer.layer.{layer}.attention.k_lin.bias\"],\n",
    "                })\n",
    "            case \"values\":\n",
    "                module.load_state_dict({\n",
    "                    \"weight\": parameters[f\"distilbert.transformer.layer.{layer}.attention.v_lin.weight\"],\n",
    "                    \"bias\": parameters[f\"distilbert.transformer.layer.{layer}.attention.v_lin.bias\"],\n",
    "                })\n",
    "            case \"outputs\":\n",
    "                module.load_state_dict({\n",
    "                    \"weight\": parameters[f\"distilbert.transformer.layer.{layer}.attention.out_lin.weight\"],\n",
    "                    \"bias\": parameters[f\"distilbert.transformer.layer.{layer}.attention.out_lin.bias\"],\n",
    "                })\n",
    "            case \"normalize_attention\":\n",
    "                module.load_state_dict({\n",
    "                    \"weight\": parameters[f\"distilbert.transformer.layer.{layer}.sa_layer_norm.weight\"], \n",
    "                    \"bias\": parameters[f\"distilbert.transformer.layer.{layer}.sa_layer_norm.bias\"],\n",
    "                })\n",
    "            case \"ffn\":\n",
    "                module.load_state_dict({\n",
    "                    \"0.weight\": parameters[f\"distilbert.transformer.layer.{layer}.ffn.lin1.weight\"], \n",
    "                    \"0.bias\": parameters[f\"distilbert.transformer.layer.{layer}.ffn.lin1.bias\"],\n",
    "                    \"2.weight\": parameters[f\"distilbert.transformer.layer.{layer}.ffn.lin2.weight\"], \n",
    "                    \"2.bias\": parameters[f\"distilbert.transformer.layer.{layer}.ffn.lin2.bias\"],\n",
    "                })\n",
    "            case \"normalize_ffn\":\n",
    "                module.load_state_dict({\n",
    "                    \"weight\": parameters[f\"distilbert.transformer.layer.{layer}.output_layer_norm.weight\"], \n",
    "                    \"bias\": parameters[f\"distilbert.transformer.layer.{layer}.output_layer_norm.bias\"],\n",
    "                })\n",
    "            case \"classifier\":\n",
    "                module.load_state_dict({\n",
    "                    \"0.weight\": parameters[\"pre_classifier.weight\"], \n",
    "                    \"0.bias\": parameters[\"pre_classifier.bias\"],\n",
    "                    \"2.weight\": parameters[\"classifier.weight\"], \n",
    "                    \"2.bias\": parameters[\"classifier.bias\"],\n",
    "                })                \n",
    "\n",
    "\n",
    "def load_pretrained_state(layer):    \n",
    "    # Load pre-trained state\n",
    "    load_state(\n",
    "        queries, \"queries\", \n",
    "        keys, \"keys\", \n",
    "        values, \"values\", \n",
    "        outputs, \"outputs\", \n",
    "        normalize_attention, \"normalize_attention\",\n",
    "        ffn, \"ffn\",\n",
    "        normalize_ffn, \"normalize_ffn\",\n",
    "        layer=layer,\n",
    "    )"
   ]
  },
  {
   "cell_type": "markdown",
   "id": "c85b4579-fb46-481c-8c62-abf66dd022b2",
   "metadata": {},
   "source": [
    "# Transformer Pipeline\n",
    "\n",
    "The following diagram depicts a Transformer as a multi-stage pipeline. The Context stage at the center of the pipeline is where most of the magic happens. The stages before and after Context provide the extra machinery required to convert raw data into input embeddings and output embeddings into task-specific outputs. While we'll focus on text data, it's worth noting that the same stages can be applied to all data modalities including audio and images (Xu et al. 2023).\n",
    "\n",
    "<img src=\"transformer-pipeline.svg\" class=\"stickshift-figure\" width=\"800\">"
   ]
  },
  {
   "cell_type": "markdown",
   "id": "9796e5d2-ca36-4b34-a48d-de2a4e475e8f",
   "metadata": {},
   "source": [
    "# Tokenize"
   ]
  },
  {
   "cell_type": "markdown",
   "id": "0f495b6e-a916-4e1d-9a29-90adf2548d1b",
   "metadata": {},
   "source": [
    "The Tokenize stage is responsible for breaking raw data into a sequence of \"tokens\". While the word \"token\" is often associated with text processing, the Transformer literature extends this to other data modalities as well. Examples include patches of an image or segments of an audio recording. In fact, tokenization is seen as a core strength of the Transformer architecture because it allows Transformers to process different types of data using a single, universal approach (Xu et al. 2023).\n",
    "\n",
    "While tokenization is a general concept, the specific algorithms used are modality-specific. In this case, our transformer uses an algorithm known as \"word-piece\" (Devlin et al. 2019) to split raw text into a sequence of tokens. Next, special tokens are injected to mark the beginning and end of the sequence. Each token is then converted into an integer-encoded categorical value using a fixed token vocabulary, producing the final sequence of \"input_ids\" that are passed to the next stage.\n",
    "\n",
    "Since our primary interest is in the Transformer layers that come later, we'll use Hugging Face's off-the-shelf tokenizer implementation here."
   ]
  },
  {
   "cell_type": "code",
   "execution_count": 7,
   "id": "98ae8a9e-db57-4d0f-96d4-17c8e0175823",
   "metadata": {},
   "outputs": [],
   "source": [
    "# Extract tokenizer from transformer\n",
    "tokenizer = transformer.tokenizer"
   ]
  },
  {
   "cell_type": "code",
   "execution_count": 8,
   "id": "c73c7451-d942-4645-abb3-f77dbac14db9",
   "metadata": {},
   "outputs": [
    {
     "data": {
      "text/plain": [
       "{'input_ids': tensor([[ 101, 1045, 2293, 3256, 6949,  102]]), 'attention_mask': tensor([[1, 1, 1, 1, 1, 1]])}"
      ]
     },
     "execution_count": 8,
     "metadata": {},
     "output_type": "execute_result"
    }
   ],
   "source": [
    "# Tokenize sentence\n",
    "batch = tokenizer(\"I love ice cream\", return_tensors=\"pt\")\n",
    "\n",
    "batch"
   ]
  },
  {
   "cell_type": "markdown",
   "id": "b6c372b2-d7c8-44b3-ba78-4fbc78b785ad",
   "metadata": {},
   "source": [
    "Tokenizing \"I love ice cream\" generates the token sequence: `[101, 1045, 2293, 3256, 6949, 102]`. If we decode the integer-encoded values to see what each one represents, we can see the four words are represented by values `1045` to `6949`. The values `101` and `102` represent special tokens `[CLS]` and `[SEP]` that were added to mark the beginning and end of the sequence respectively."
   ]
  },
  {
   "cell_type": "code",
   "execution_count": 9,
   "id": "516cc2da-dae9-4746-8132-2b7f16cfab8a",
   "metadata": {},
   "outputs": [
    {
     "data": {
      "text/plain": [
       "['[CLS]', 'i', 'love', 'ice', 'cream', '[SEP]']"
      ]
     },
     "execution_count": 9,
     "metadata": {},
     "output_type": "execute_result"
    }
   ],
   "source": [
    "[tokenizer.decode(input_id) for input_id in batch.input_ids[0]]"
   ]
  },
  {
   "cell_type": "markdown",
   "id": "abfacce5-17f9-46ee-8414-053274f8f2df",
   "metadata": {},
   "source": [
    "# Embeddings"
   ]
  },
  {
   "cell_type": "markdown",
   "id": "9df54d4b-9cd9-4044-a6aa-5d08ae5582a0",
   "metadata": {},
   "source": [
    "The second stage in the Transformer pipeline converts each of the integer-encoded categorical values into an \"embedding\". Embeddings (Bengio et al. 2000) are the fundamental data structure of the Transformer architecture. The Transformer layers we'll look at in the next stage take embeddings as input, *transform* them, and produce embeddings as output. Embeddings predated Transformers by almost 2 decades and are a fascinating topic in their own right. But we'll save the embeddings deep dive for another post. For now, all we need to know is embeddings represent each token as a unique point in an n-dimensional vector space. The vector space coordinates are initialized randomly and then learned during training.\n",
    "\n",
    "Similar to tokenization, the steps required to convert tokens into embeddings depend on the data modality. In text transformers, the Embeddings stage is typically implemented using 2 lookup tables. The first lookup table maps the value of each token to a unique embedding vector. The second lookup table maps the position of each token to a unique embedding vector. The value and position embeddings are then added together to create the initial token embeddings.\n",
    "\n",
    "<img src=\"embeddings.svg\" class=\"stickshift-figure\" width=\"600\">"
   ]
  },
  {
   "cell_type": "markdown",
   "id": "ec8f05cb-1525-48aa-a001-dddba54d5659",
   "metadata": {},
   "source": [
    "Let's start with value embeddings. First, we initialize the value embeddings lookup table. Next, we read the values from the tokenizer output. Finally, we pass the token values to the lookup table to get unique embeddings for each value."
   ]
  },
  {
   "cell_type": "code",
   "execution_count": 10,
   "id": "4a17a31c-f505-4191-9fab-d718216474a8",
   "metadata": {},
   "outputs": [],
   "source": [
    "# Initialize value embeddings lookup table\n",
    "value_embeddings = nn.Embedding(\n",
    "    num_embeddings=config.vocab_size, \n",
    "    embedding_dim=config.d_model,\n",
    ")\n",
    "\n",
    "# Load pre-trained state\n",
    "load_state(value_embeddings, \"value_embeddings\")"
   ]
  },
  {
   "cell_type": "code",
   "execution_count": 11,
   "id": "acbd0034-07f6-4e20-bae1-139310c8c18e",
   "metadata": {},
   "outputs": [
    {
     "data": {
      "text/plain": [
       "['[CLS]', 'i', 'love', 'ice', 'cream', '[SEP]']"
      ]
     },
     "execution_count": 11,
     "metadata": {},
     "output_type": "execute_result"
    }
   ],
   "source": [
    "# Calculate token values\n",
    "values = torch.squeeze(batch.input_ids)\n",
    "\n",
    "[tokenizer.decode(input_id) for input_id in values]"
   ]
  },
  {
   "cell_type": "code",
   "execution_count": 12,
   "id": "18970299-0558-4419-b89e-9879595e2390",
   "metadata": {},
   "outputs": [
    {
     "data": {
      "text/plain": [
       "torch.Size([6, 768])"
      ]
     },
     "execution_count": 12,
     "metadata": {},
     "output_type": "execute_result"
    }
   ],
   "source": [
    "# Map token values to embeddings\n",
    "v = value_embeddings(values)\n",
    "\n",
    "v.shape"
   ]
  },
  {
   "cell_type": "code",
   "execution_count": 13,
   "id": "7a5fd210-4c1e-4cc1-923c-4af984a8f8dc",
   "metadata": {},
   "outputs": [
    {
     "data": {
      "text/plain": [
       "tensor([[ 3.9925e-02, -1.0171e-02, -2.0390e-02,  ...,  6.1588e-02,\n",
       "          2.1959e-02,  2.2732e-02],\n",
       "        [-1.2794e-02,  4.9879e-03, -2.6270e-02,  ..., -7.2300e-05,\n",
       "          5.3657e-03,  1.1908e-02],\n",
       "        [ 5.9359e-02, -2.3563e-02, -2.0560e-03,  ..., -1.0420e-02,\n",
       "          1.4846e-02, -1.2815e-02],\n",
       "        [-2.4101e-02, -2.4911e-02, -2.2601e-02,  ..., -2.5139e-02,\n",
       "          1.1392e-02,  3.2655e-02],\n",
       "        [-8.5466e-02, -5.9276e-02, -5.6659e-02,  ..., -1.7192e-02,\n",
       "         -8.6179e-02, -4.5105e-02],\n",
       "        [-2.1060e-02, -6.4941e-03, -1.0682e-02,  ..., -2.3401e-02,\n",
       "          6.1463e-03, -6.4845e-03]], grad_fn=<EmbeddingBackward0>)"
      ]
     },
     "execution_count": 13,
     "metadata": {},
     "output_type": "execute_result"
    }
   ],
   "source": [
    "# Show sample of value embeddings\n",
    "v"
   ]
  },
  {
   "cell_type": "markdown",
   "id": "9c203d1a-fd6d-43aa-83a0-82e4a3544dd1",
   "metadata": {},
   "source": [
    "Next, we'll follow a similar set of steps for the position embeddings. We'll start by initializing the position embeddings lookup table. Next, we'll calculate the positions from the tokenizer output. Finally, we pass the token positions to the lookup table to get unique embeddings for each position."
   ]
  },
  {
   "cell_type": "code",
   "execution_count": 14,
   "id": "740a3ecc-d180-445f-a1fe-f2e157e9b1fa",
   "metadata": {},
   "outputs": [],
   "source": [
    "# Configure position embeddings lookup table\n",
    "position_embeddings = nn.Embedding(\n",
    "    num_embeddings=config.max_sequence_length, \n",
    "    embedding_dim=config.d_model,\n",
    ")\n",
    "\n",
    "# Load pre-trained state\n",
    "load_state(position_embeddings, \"position_embeddings\")"
   ]
  },
  {
   "cell_type": "code",
   "execution_count": 15,
   "id": "547facad-a7b5-480b-bd9e-22a21650a838",
   "metadata": {},
   "outputs": [
    {
     "data": {
      "text/plain": [
       "tensor([0, 1, 2, 3, 4, 5])"
      ]
     },
     "execution_count": 15,
     "metadata": {},
     "output_type": "execute_result"
    }
   ],
   "source": [
    "# Calculate token positions\n",
    "positions = torch.arange(values.size(0))\n",
    "\n",
    "positions"
   ]
  },
  {
   "cell_type": "code",
   "execution_count": 16,
   "id": "49cbeef1-f5e4-4e5c-8e15-562c585f289c",
   "metadata": {},
   "outputs": [
    {
     "data": {
      "text/plain": [
       "torch.Size([6, 768])"
      ]
     },
     "execution_count": 16,
     "metadata": {},
     "output_type": "execute_result"
    }
   ],
   "source": [
    "# Map token positions to embeddings\n",
    "p = position_embeddings(positions)\n",
    "\n",
    "p.shape"
   ]
  },
  {
   "cell_type": "code",
   "execution_count": 17,
   "id": "0f4f9448-ef27-46a0-964d-c7e80d367947",
   "metadata": {},
   "outputs": [
    {
     "data": {
      "text/plain": [
       "tensor([[ 1.8007e-02, -2.3798e-02, -3.5982e-02,  ...,  4.5726e-04,\n",
       "          5.1363e-05,  1.5002e-02],\n",
       "        [ 7.8592e-03,  4.8144e-03, -1.6093e-02,  ...,  2.9312e-02,\n",
       "          2.7634e-02, -8.5431e-03],\n",
       "        [-1.1663e-02, -3.1590e-03, -9.4000e-03,  ...,  1.4870e-02,\n",
       "          2.1609e-02, -7.4069e-03],\n",
       "        [-4.0848e-03, -1.1123e-02, -2.1704e-02,  ...,  1.8962e-02,\n",
       "          4.6763e-03, -1.0220e-03],\n",
       "        [-8.2666e-03, -4.1641e-03, -7.5136e-03,  ...,  1.9757e-02,\n",
       "         -2.2192e-03,  3.8681e-03],\n",
       "        [ 4.6293e-04, -1.8499e-02, -1.9709e-02,  ...,  5.4042e-03,\n",
       "          1.8076e-02,  2.9490e-03]], grad_fn=<EmbeddingBackward0>)"
      ]
     },
     "execution_count": 17,
     "metadata": {},
     "output_type": "execute_result"
    }
   ],
   "source": [
    "# Show sample of position embeddings\n",
    "p"
   ]
  },
  {
   "cell_type": "markdown",
   "id": "867f8e9d-b332-4672-9aee-8ebf472e7076",
   "metadata": {},
   "source": [
    "Now that we have value and position embeddings, we add and normalize them to get the final \"position-encoded token embeddings\"."
   ]
  },
  {
   "cell_type": "code",
   "execution_count": 18,
   "id": "21482619-56f4-4352-9842-1fd1441dc3e7",
   "metadata": {},
   "outputs": [],
   "source": [
    "# Configure embeddings normalization\n",
    "normalize_embeddings = nn.LayerNorm(\n",
    "    normalized_shape=config.d_model, \n",
    "    eps=1e-12,\n",
    ")\n",
    "\n",
    "# Load pre-trained state\n",
    "load_state(normalize_embeddings, \"normalize_embeddings\")"
   ]
  },
  {
   "cell_type": "code",
   "execution_count": 19,
   "id": "9a2a90c3-c770-4a33-8603-a0fa1cdfcbde",
   "metadata": {},
   "outputs": [
    {
     "data": {
      "text/plain": [
       "torch.Size([6, 768])"
      ]
     },
     "execution_count": 19,
     "metadata": {},
     "output_type": "execute_result"
    }
   ],
   "source": [
    "# Add and normalize value and position embeddings\n",
    "x = normalize_embeddings(v + p)\n",
    "\n",
    "x.shape"
   ]
  },
  {
   "cell_type": "code",
   "execution_count": 20,
   "id": "9d963258-fc89-4326-984e-8cd40a31b131",
   "metadata": {},
   "outputs": [
    {
     "data": {
      "text/plain": [
       "tensor([[ 0.3549, -0.1386, -0.2253,  ...,  0.1536,  0.0748,  0.1310],\n",
       "        [ 0.2282,  0.5511, -0.5092,  ...,  0.6421,  0.9541,  0.3192],\n",
       "        [ 1.4511, -0.0794,  0.2168,  ...,  0.2851,  1.0723, -0.0919],\n",
       "        [-0.0564, -0.1761, -0.2870,  ...,  0.1442,  0.6767,  1.0396],\n",
       "        [-1.1349, -0.5135, -0.4714,  ...,  0.3874, -1.0348, -0.2812],\n",
       "        [-0.2980, -0.3332, -0.3742,  ..., -0.3392,  0.3764, -0.1298]],\n",
       "       grad_fn=<NativeLayerNormBackward0>)"
      ]
     },
     "execution_count": 20,
     "metadata": {},
     "output_type": "execute_result"
    }
   ],
   "source": [
    "# Show sample of token embeddings\n",
    "x"
   ]
  },
  {
   "cell_type": "markdown",
   "id": "880c934b-a53a-4c6f-8eb1-c2810aeb27fc",
   "metadata": {},
   "source": [
    "Congrats! You've converted the raw text \"I love ice cream\" into embeddings that encode both the token values and positions."
   ]
  },
  {
   "cell_type": "markdown",
   "id": "3ef34552-3fc7-4a00-856c-705a78e0f0d5",
   "metadata": {},
   "source": [
    "# Context"
   ]
  },
  {
   "cell_type": "markdown",
   "id": "acc8de72-c9b6-4c23-bc27-b525a043cd18",
   "metadata": {},
   "source": [
    "In the previous stage, we mapped the token values and positions to embeddings. But these embeddings represent the tokens in *isolation*. The Context stage is responsible for infusing each embedding with contextual signals drawn from the entire sequence. At a conceptual level, this should be intuitive. For example, the meaning of the word \"ice\" changes when you add \"cream\" after it.\n",
    "\n",
    "<img src=\"contextualized-embeddings.svg\" class=\"stickshift-figure\" width=\"600\">"
   ]
  },
  {
   "cell_type": "markdown",
   "id": "e41880d9-cc37-4d32-a8a6-cb0ad60b74a6",
   "metadata": {},
   "source": [
    "## Layers of Attention and FFNs\n",
    "\n",
    "The Context stage works by passing the token embeddings through multiple layers of attention and feedforward blocks. The attention blocks focus on relationships between tokens, augmenting each embedding with information drawn from the surrounding embeddings. The feedforward blocks focus on individual tokens, transforming the contextual clues added by attention with the non-linear transformation magic neural networks are famous for.\n",
    "\n",
    "The following diagram illustrates the stack of Transformer layers in the Context stage. The contents of each layer are identical. By arranging the layers in a stack, the model builds context in small increments similar to the hierarchical features in a CNN. The main differences between popular Transformer models such as BERT and GPT come down to how these layers are configured.\n",
    "\n",
    "<img src=\"transformer-layers.svg\" class=\"stickshift-figure\" width=\"800\">"
   ]
  },
  {
   "cell_type": "markdown",
   "id": "510dc3aa-2911-46f9-b5fa-1dbea77335ea",
   "metadata": {},
   "source": [
    "As illustrated above, given input embeddings $X$, we can define the output embeddings $Z$ for a single layer as:\n",
    "\n",
    "$$\n",
    "\\begin{align}\n",
    "Y &= Normalize(X + Attention(X)) \\\\\n",
    "Z &= Normalize(Y + FFN(Y))\n",
    "\\end{align}\n",
    "$$"
   ]
  },
  {
   "cell_type": "markdown",
   "id": "49dcb2ce-05ff-4837-a40d-b320ff65dc5d",
   "metadata": {},
   "source": [
    "## Scaled Dot-Product Attention\n",
    "\n",
    "The Attention block is the signature component of the Transformer architecture. It's also one of the most complicated and likely the least familiar when you're first learning about Transformers. We'll walk through the core attention algorithm described in the original \"All You Need is Attention\" paper by Vaswani et al. one step at a time. At the end of the Context section, we'll put all the pieces together.\n",
    "\n",
    "Vaswani et al. described their attention algorithm as Scaled Dot-Product Attention (SDPA) and defined the standard attention equation everyone cites:\n",
    "\n",
    "$$\n",
    "\\begin{equation}\n",
    "Attention(Q, K, V) = softmax(\\frac{QK^T}{\\sqrt{d_K}})V\n",
    "\\end{equation}\n",
    "$$"
   ]
  },
  {
   "cell_type": "markdown",
   "id": "0c22fe94-4120-4161-8359-451572eec2b7",
   "metadata": {},
   "source": [
    "## Queries, Keys, Values\n",
    "\n",
    "The $Q$, $K$, and $V$ terms in the SDPA equation are \"query\", \"key\", and \"value\" matrices respectively. Each row in $Q$, $K$, and $V$ represents a token embedding that has been projected to distinct representation subspaces. Query embeddings represent selection criteria for the surrounding tokens that would add context to the current token definition. Key embeddings represent characteristics that satisfy the selection criteria. Value embeddings represent the contextual information one token transfers to another. Together, queries, keys, and values allow the attention mechanism to refine the representation of each token based on the surrounding tokens."
   ]
  },
  {
   "cell_type": "code",
   "execution_count": 21,
   "id": "38d246a9-bdfc-45e8-97b1-dd2efcf3de9d",
   "metadata": {},
   "outputs": [],
   "source": [
    "# Configure query, key, value projections\n",
    "queries = nn.Linear(\n",
    "    in_features=config.d_model, \n",
    "    out_features=config.d_model,\n",
    ")\n",
    "keys = nn.Linear(\n",
    "    in_features=config.d_model,\n",
    "    out_features=config.d_model,\n",
    ")\n",
    "values = nn.Linear(\n",
    "    in_features=config.d_model, \n",
    "    out_features=config.d_model,\n",
    ")\n",
    "\n",
    "# Load pre-trained state\n",
    "load_state(queries, \"queries\", keys, \"keys\", values, \"values\")"
   ]
  },
  {
   "cell_type": "code",
   "execution_count": 22,
   "id": "33e69dfc-ccc1-4f52-b6b9-65a9207f5285",
   "metadata": {},
   "outputs": [
    {
     "data": {
      "text/plain": [
       "(torch.Size([6, 768]), torch.Size([6, 768]), torch.Size([6, 768]))"
      ]
     },
     "execution_count": 22,
     "metadata": {},
     "output_type": "execute_result"
    }
   ],
   "source": [
    "# Project token embeddings to query, key, and value spaces\n",
    "q = queries(x)\n",
    "k = keys(x)\n",
    "v = values(x)\n",
    "\n",
    "q.shape, k.shape, v.shape"
   ]
  },
  {
   "cell_type": "markdown",
   "id": "90a8d05c-3e01-454f-a6d8-51d7df87c452",
   "metadata": {},
   "source": [
    "We can see the projections generated unique query, key, and value embeddings for each of the 6 tokens `['[CLS]', 'i', 'love', 'ice', 'cream', '[SEP]']`."
   ]
  },
  {
   "cell_type": "markdown",
   "id": "a27d541e-2284-4599-90d3-d0854005054f",
   "metadata": {},
   "source": [
    "## Attention Weights"
   ]
  },
  {
   "cell_type": "markdown",
   "id": "9ab030dc-bcd5-494a-9aae-341945664a42",
   "metadata": {},
   "source": [
    "Now that we have $Q$, $K$, and $V$, we can delve into the SDPA equation itself. For each input embedding, SDPA calculates a weighted sum of the value projections for all the tokens in the sequence. We already saw the value projections are represented by $V$. The weights are represented by the softmax term:\n",
    "\n",
    "$$\n",
    "\\begin{align}\n",
    "softmax(\\frac{QK^T}{\\sqrt{d_K}})\n",
    "\\end{align}\n",
    "$$\n",
    "\n",
    "I wouldn't hold it against you if it's not immediately obvious what we get here. To see what's happening, let's break this down even further.\n",
    "\n",
    "First, the $QK^T$ term calculates a $d_Q \\times d_K$ matrix of the dot products of each query embedding with every key embedding. To see why, imagine we have 2 token embeddings of length 3. Using matrix multiplication, we end up with a $2 \\times 2$ matrix where each element $w_{ij}$ represents the dot product of query $i$ with key $j$.\n",
    "\n",
    "$$\n",
    "\\begin{align}\n",
    "QK^T\n",
    "&=\n",
    "\\begin{bmatrix}\n",
    "q_{00} & q_{01} & q_{02} \\\\\n",
    "q_{10} & q_{11} & q_{12}\n",
    "\\end{bmatrix}\n",
    "\\begin{bmatrix}\n",
    "k_{00} & k_{10} \\\\\n",
    "k_{01} & k_{11} \\\\\n",
    "k_{02} & k_{12}\n",
    "\\end{bmatrix}\n",
    "=\n",
    "\\begin{bmatrix}\n",
    "w_{00} & w_{01} \\\\\n",
    "w_{10} & w_{11}\n",
    "\\end{bmatrix} \\\\\n",
    "\\text{where } w_{ij} &= row(Q, i) \\cdot row(K, j)\n",
    "\\end{align}\n",
    "$$"
   ]
  },
  {
   "cell_type": "code",
   "execution_count": 23,
   "id": "7db10512-59cb-42fb-8dd1-334e6dec0c03",
   "metadata": {},
   "outputs": [
    {
     "data": {
      "text/plain": [
       "torch.Size([6, 6])"
      ]
     },
     "execution_count": 23,
     "metadata": {},
     "output_type": "execute_result"
    }
   ],
   "source": [
    "# Calculate similarity between Q and K\n",
    "w = q @ k.transpose(-2, -1)\n",
    "\n",
    "w.shape"
   ]
  },
  {
   "cell_type": "markdown",
   "id": "2c069a27-6b05-42ba-9448-d53e2c149745",
   "metadata": {},
   "source": [
    "Second, the $1/\\sqrt{d_K}$ term scales the dot products down to avoid pushing the softmax function into regions with very small gradients."
   ]
  },
  {
   "cell_type": "code",
   "execution_count": 24,
   "id": "5c4d8df1-ae31-4d2c-a0a1-158d7b823950",
   "metadata": {},
   "outputs": [
    {
     "data": {
      "text/plain": [
       "torch.Size([6, 6])"
      ]
     },
     "execution_count": 24,
     "metadata": {},
     "output_type": "execute_result"
    }
   ],
   "source": [
    "w /= np.sqrt(config.d_head)\n",
    "\n",
    "w.shape"
   ]
  },
  {
   "cell_type": "markdown",
   "id": "835d7d85-1457-4994-8714-7dbd370a0487",
   "metadata": {},
   "source": [
    "Finally, the softmax function normalizes the weights across the keys."
   ]
  },
  {
   "cell_type": "code",
   "execution_count": 25,
   "id": "c6b71776-7b28-434a-9437-62769469dea9",
   "metadata": {},
   "outputs": [
    {
     "data": {
      "text/plain": [
       "tensor([[1.0000e+00, 2.5216e-18, 7.7336e-19, 1.0305e-17, 3.1062e-17, 7.4088e-13],\n",
       "        [1.0000e+00, 1.1983e-12, 4.7904e-09, 5.7942e-14, 1.9032e-13, 3.4724e-06],\n",
       "        [1.0000e+00, 1.6518e-10, 1.0182e-12, 1.0676e-12, 6.3056e-11, 5.2538e-08],\n",
       "        [9.8410e-01, 1.3746e-15, 1.3196e-10, 1.9757e-14, 1.5893e-02, 7.7626e-06],\n",
       "        [9.8189e-01, 9.0107e-18, 8.6323e-13, 1.8114e-02, 9.2891e-17, 4.1733e-07],\n",
       "        [9.9863e-01, 3.8286e-12, 1.6438e-15, 1.0339e-14, 1.4698e-10, 1.3678e-03]],\n",
       "       grad_fn=<SoftmaxBackward0>)"
      ]
     },
     "execution_count": 25,
     "metadata": {},
     "output_type": "execute_result"
    }
   ],
   "source": [
    "# Normalize weights across keys\n",
    "w = softmax(w, dim=-1)\n",
    "\n",
    "w"
   ]
  },
  {
   "cell_type": "code",
   "execution_count": 26,
   "id": "4f3fffa5-44e4-4064-b749-1128710360bb",
   "metadata": {
    "tags": [
     "skip-publish"
    ]
   },
   "outputs": [
    {
     "data": {
      "image/png": "[encoded data removed]",
      "text/plain": [
       "<Figure size 1000x500 with 6 Axes>"
      ]
     },
     "metadata": {},
     "output_type": "display_data"
    }
   ],
   "source": [
    "# Plot weights for each query\n",
    "_, axs = plt.subplots(nrows=2, ncols=3, figsize=(10,5), gridspec_kw={\"wspace\": 0.5, \"hspace\": 0.5})\n",
    "for i in range(6):\n",
    "    ax = axs[i//3][i%3]\n",
    "    sns.scatterplot(x=np.arange(len(w[i])), y=w[i].detach(), ax=ax)\n",
    "    ax.set_title(f\"Query {i}\")\n",
    "    ax.set_xlabel(f\"Keys\")\n",
    "    ax.set_ylabel(f\"Weight\")"
   ]
  },
  {
   "cell_type": "markdown",
   "id": "600b8f79-8434-47e5-a01c-088a587af36b",
   "metadata": {},
   "source": [
    "## Attention Output"
   ]
  },
  {
   "cell_type": "markdown",
   "id": "d61da97b-8bd5-43ab-b7d5-37f6fd98947f",
   "metadata": {},
   "source": [
    "Now that we have the attention weights, we can apply them to the values. This will give us a weighted sum of contextual information. However, the answer is still in \"value space\". Before we combine them with the token embeddings, we'll project them back to \"model space\"."
   ]
  },
  {
   "cell_type": "code",
   "execution_count": 27,
   "id": "6a8d1c74-fc5e-4ea7-a263-be6eccb208a3",
   "metadata": {},
   "outputs": [
    {
     "data": {
      "text/plain": [
       "torch.Size([6, 768])"
      ]
     },
     "execution_count": 27,
     "metadata": {},
     "output_type": "execute_result"
    }
   ],
   "source": [
    "# Compute weighted combination of values\n",
    "a = w @ v\n",
    "\n",
    "a.shape"
   ]
  },
  {
   "cell_type": "code",
   "execution_count": 28,
   "id": "21b505b4-b94c-408d-8e9e-5b5a6d0980cb",
   "metadata": {},
   "outputs": [],
   "source": [
    "# Configure output projection\n",
    "outputs = nn.Linear(\n",
    "    in_features=config.d_model, \n",
    "    out_features=config.d_model,\n",
    ")\n",
    "\n",
    "# Load pre-trained state\n",
    "load_state(outputs, \"outputs\")"
   ]
  },
  {
   "cell_type": "code",
   "execution_count": 29,
   "id": "65c9b39f-6b40-40a4-bbb8-273821bc21aa",
   "metadata": {},
   "outputs": [
    {
     "data": {
      "text/plain": [
       "torch.Size([6, 768])"
      ]
     },
     "execution_count": 29,
     "metadata": {},
     "output_type": "execute_result"
    }
   ],
   "source": [
    "# Project attention embeddings back to model space\n",
    "a = outputs(a)\n",
    "\n",
    "a.shape"
   ]
  },
  {
   "cell_type": "markdown",
   "id": "3075e1fd-8477-4d2f-857e-250abe9eba04",
   "metadata": {},
   "source": [
    "## Multi-Head Attention\n",
    "\n",
    "At this point, we've walked through the core SDPA algorithm step-by-step. However, we're not quite done. Vaswani et al. realized there are more than one set of relationships involved in transferring context across tokens. A single application of SDPA would effectively water these down by averaging them together. The solution is to apply SDPA multiple times on separate query, key, and value embeddings. Each of these is referred to as an \"attention head\". Each head is isolated, leaving it free to learn distinct relational structures."
   ]
  },
  {
   "cell_type": "code",
   "execution_count": 30,
   "id": "0b7eb210-6157-4f7d-bb16-80054f99d4e0",
   "metadata": {},
   "outputs": [],
   "source": [
    "def split_heads(x):\n",
    "    return x.view(-1, config.n_heads, config.d_head).transpose(-3, -2)\n",
    "\n",
    "def combine_heads(x):\n",
    "    return x.transpose(-3, -2).contiguous().view(-1, int(config.n_heads * config.d_head))"
   ]
  },
  {
   "cell_type": "code",
   "execution_count": 31,
   "id": "566f79ae-4445-4a92-a7d0-5b15bb1327f2",
   "metadata": {},
   "outputs": [
    {
     "data": {
      "text/plain": [
       "(torch.Size([6, 768]), torch.Size([6, 768]), torch.Size([6, 768]))"
      ]
     },
     "execution_count": 31,
     "metadata": {},
     "output_type": "execute_result"
    }
   ],
   "source": [
    "# Render query, key, value dimensions before we split\n",
    "q.shape, k.shape, v.shape"
   ]
  },
  {
   "cell_type": "code",
   "execution_count": 32,
   "id": "efa0cabc-9903-4e1f-a188-8fe9ef2c3647",
   "metadata": {},
   "outputs": [
    {
     "data": {
      "text/plain": [
       "(torch.Size([12, 6, 64]), torch.Size([12, 6, 64]), torch.Size([12, 6, 64]))"
      ]
     },
     "execution_count": 32,
     "metadata": {},
     "output_type": "execute_result"
    }
   ],
   "source": [
    "# Split queries, keys, values into separate heads\n",
    "q = split_heads(q)\n",
    "k = split_heads(k)\n",
    "v = split_heads(v)\n",
    "\n",
    "q.shape, k.shape, v.shape"
   ]
  },
  {
   "cell_type": "markdown",
   "id": "8e0a8eab-37ea-42ea-b466-d237b499d87c",
   "metadata": {},
   "source": [
    "We can see that the queries, keys, and values have been split into 12 heads. Each of the original 768-element query, key, and value embeddings is now 64 elements long.\n",
    "\n",
    "Next, let's recompute the attention embeddings."
   ]
  },
  {
   "cell_type": "code",
   "execution_count": 33,
   "id": "1539a494-99dc-477f-bfb0-1dfbafeafce2",
   "metadata": {},
   "outputs": [
    {
     "data": {
      "text/plain": [
       "torch.Size([12, 6, 64])"
      ]
     },
     "execution_count": 33,
     "metadata": {},
     "output_type": "execute_result"
    }
   ],
   "source": [
    "# Compute attention for all heads in parallel\n",
    "a = softmax(q @ k.transpose(-2, -1) / np.sqrt(config.d_head), dim=-1) @ v\n",
    "\n",
    "a.shape"
   ]
  },
  {
   "cell_type": "markdown",
   "id": "f7cc6ac3-16b4-4ebb-8b21-b650d3b63d4f",
   "metadata": {},
   "source": [
    "While the attention code is the same, you can see the attention values are still split into heads. Next, we'll recombine them before applying the final output projection."
   ]
  },
  {
   "cell_type": "code",
   "execution_count": 34,
   "id": "5df05cde-1886-49b1-b2df-9c24b689391e",
   "metadata": {},
   "outputs": [
    {
     "data": {
      "text/plain": [
       "torch.Size([6, 768])"
      ]
     },
     "execution_count": 34,
     "metadata": {},
     "output_type": "execute_result"
    }
   ],
   "source": [
    "# Recombine heads\n",
    "a = combine_heads(a)\n",
    "\n",
    "a.shape"
   ]
  },
  {
   "cell_type": "code",
   "execution_count": 35,
   "id": "be91d403-0580-4519-aaf1-d432ef0f8e2d",
   "metadata": {},
   "outputs": [
    {
     "data": {
      "text/plain": [
       "torch.Size([6, 768])"
      ]
     },
     "execution_count": 35,
     "metadata": {},
     "output_type": "execute_result"
    }
   ],
   "source": [
    "# Project attention embeddings back to model space\n",
    "a = outputs(a)\n",
    "\n",
    "a.shape"
   ]
  },
  {
   "cell_type": "markdown",
   "id": "e5d8a6f8-deb0-4e68-bffa-149e3ca3c2c5",
   "metadata": {},
   "source": [
    "## Add and Normalize\n",
    "\n",
    "Before we get to the FFN, we combine the attention embeddings with input embeddings the same way we combined the value and position embeddings."
   ]
  },
  {
   "cell_type": "code",
   "execution_count": 36,
   "id": "fd4453d3-0ee2-42e1-8b26-f0a8d8e8298d",
   "metadata": {},
   "outputs": [],
   "source": [
    "# Configure attention normalization\n",
    "normalize_attention = nn.LayerNorm(\n",
    "    normalized_shape=config.d_model, \n",
    "    eps=1e-12,\n",
    ")\n",
    "\n",
    "# Load pre-trained state\n",
    "load_state(normalize_attention, \"normalize_attention\")"
   ]
  },
  {
   "cell_type": "code",
   "execution_count": 37,
   "id": "5dfbb320-be66-4456-81c2-92d63c7129a8",
   "metadata": {},
   "outputs": [
    {
     "data": {
      "text/plain": [
       "torch.Size([6, 768])"
      ]
     },
     "execution_count": 37,
     "metadata": {},
     "output_type": "execute_result"
    }
   ],
   "source": [
    "# Combine attention with input embeddings\n",
    "y = normalize_attention(x + a)\n",
    "\n",
    "y.shape"
   ]
  },
  {
   "cell_type": "markdown",
   "id": "79a8da5b-78fa-4528-9a74-f0cedc33c49b",
   "metadata": {},
   "source": [
    "## FFN\n",
    "\n",
    "The FFN block is a straightforward fully connected multi-layer perceptron."
   ]
  },
  {
   "cell_type": "code",
   "execution_count": 38,
   "id": "f2661b91-b813-44af-83e1-7870e4c1fef8",
   "metadata": {},
   "outputs": [],
   "source": [
    "# Configure FFN\n",
    "ffn = nn.Sequential(\n",
    "    nn.Linear(in_features=config.d_model, out_features=config.d_ffn),\n",
    "    nn.GELU(),\n",
    "    nn.Linear(in_features=config.d_ffn, out_features=config.d_model),\n",
    ")\n",
    "\n",
    "# Load pre-trained state\n",
    "load_state(ffn, \"ffn\")"
   ]
  },
  {
   "cell_type": "code",
   "execution_count": 39,
   "id": "f90b3b4f-98ff-4683-9302-ed08bab7440e",
   "metadata": {},
   "outputs": [
    {
     "data": {
      "text/plain": [
       "torch.Size([6, 768])"
      ]
     },
     "execution_count": 39,
     "metadata": {},
     "output_type": "execute_result"
    }
   ],
   "source": [
    "# Transform attention outputs\n",
    "f = ffn(y)\n",
    "\n",
    "f.shape"
   ]
  },
  {
   "cell_type": "markdown",
   "id": "4252c07b-de67-4220-ac2d-415790ba906b",
   "metadata": {},
   "source": [
    "## Add and Normalize\n",
    "\n",
    "Next, we combine the transformed embeddings with the attention embeddings."
   ]
  },
  {
   "cell_type": "code",
   "execution_count": 40,
   "id": "7d4b356b-a9e3-4081-bf36-dbb2a6a1c300",
   "metadata": {},
   "outputs": [],
   "source": [
    "# Configure attention normalization\n",
    "normalize_ffn = nn.LayerNorm(\n",
    "    normalized_shape=config.d_model,\n",
    "    eps=1e-12,\n",
    ")\n",
    "\n",
    "# Load pre-trained state\n",
    "load_state(normalize_ffn, \"normalize_ffn\")"
   ]
  },
  {
   "cell_type": "code",
   "execution_count": 41,
   "id": "45b46002-94be-4fc0-b9cb-6caa9127a422",
   "metadata": {},
   "outputs": [
    {
     "data": {
      "text/plain": [
       "torch.Size([6, 768])"
      ]
     },
     "execution_count": 41,
     "metadata": {},
     "output_type": "execute_result"
    }
   ],
   "source": [
    "z = normalize_ffn(y + f)\n",
    "\n",
    "z.shape"
   ]
  },
  {
   "cell_type": "markdown",
   "id": "93630fa8-50d2-48fb-9df2-a339ef1aaf25",
   "metadata": {},
   "source": [
    "Quick recap... We just finished going through a single Transformer layer. Given input embeddings $X$, we calculated and added attention embeddings to get $Y$, and then calculated and added transformed embeddings to get $Z$.\n",
    "\n",
    "$$\n",
    "\\begin{align}\n",
    "Y &= Normalize(X + Attention(X)) \\\\\n",
    "Z &= Normalize(Y + FFN(Y))\n",
    "\\end{align}\n",
    "$$"
   ]
  },
  {
   "cell_type": "markdown",
   "id": "b0917d31-aa8c-495e-b6eb-cfaaa845bfd2",
   "metadata": {},
   "source": [
    "## Stacking the Layers\n",
    "\n",
    "Next, we combine all of the steps and repeat for each layer in the stack. While you would normally create a stack of torch modules, instead we run the layers in a loop to make it easier to see what's happening."
   ]
  },
  {
   "cell_type": "code",
   "execution_count": 42,
   "id": "4dbc9b44-2fb2-4d2e-98ee-4778f243b37a",
   "metadata": {},
   "outputs": [],
   "source": [
    "# Initialize loop w/ initial input embeddings\n",
    "z_i = x\n",
    "\n",
    "# Apply layer logic in a loop\n",
    "for layer in range(config.n_layers):\n",
    "    \n",
    "    # Use previous layer's outputs as inputs\n",
    "    x_i = z_i\n",
    "\n",
    "    # Load pre-trained state for layer\n",
    "    load_pretrained_state(layer)\n",
    "\n",
    "    #\n",
    "    # Attention\n",
    "    #\n",
    "    \n",
    "    # Project x_i to query, key, and value spaces\n",
    "    q_i = queries(x_i)\n",
    "    k_i = keys(x_i)\n",
    "    v_i = values(x_i)\n",
    "    \n",
    "    # Split q, k, v into separate attention heads\n",
    "    q_i = split_heads(q_i)\n",
    "    k_i = split_heads(k_i)\n",
    "    v_i = split_heads(v_i)\n",
    "\n",
    "    # Compute attention for all heads in parallel\n",
    "    w_i = softmax(\n",
    "        q_i @ k_i.transpose(-2, -1) / np.sqrt(config.d_head), \n",
    "        dim=-1,\n",
    "    )\n",
    "    a_i = w_i @ v_i\n",
    "    \n",
    "    # Recombine attention heads\n",
    "    a_i = combine_heads(a_i)\n",
    "    \n",
    "    # Project attention embeddings back to model space\n",
    "    a_i = outputs(a_i)\n",
    "\n",
    "    # Add and normalize\n",
    "    y_i = normalize_attention(x_i + a_i)\n",
    "\n",
    "    #\n",
    "    # FFN\n",
    "    #\n",
    "\n",
    "    # Transform attention\n",
    "    f_i = ffn(y_i)\n",
    "\n",
    "    # Add and normalize\n",
    "    z_i = normalize_ffn(y_i + f_i)\n",
    "\n",
    "# Save outputs from last layer\n",
    "z = z_i"
   ]
  },
  {
   "cell_type": "code",
   "execution_count": 43,
   "id": "4e46166a-a427-41fb-958d-0deb84d46682",
   "metadata": {},
   "outputs": [
    {
     "data": {
      "text/plain": [
       "tensor([[ 3.6173e-01, -1.3168e-01,  3.5340e-02,  ...,  4.4015e-01,\n",
       "          1.0666e+00, -1.9293e-01],\n",
       "        [ 7.3341e-01,  4.9823e-02, -1.7590e-02,  ...,  5.0063e-01,\n",
       "          1.1480e+00, -1.2997e-01],\n",
       "        [ 1.1230e+00,  2.7603e-01,  3.2096e-01,  ...,  1.8820e-01,\n",
       "          1.0586e+00, -1.2496e-01],\n",
       "        [ 4.8728e-01,  1.4863e-02,  4.2930e-01,  ...,  4.8993e-01,\n",
       "          7.9435e-01,  1.2331e-01],\n",
       "        [ 1.0595e-03, -1.4508e-01,  2.8892e-01,  ...,  5.5342e-01,\n",
       "          7.9370e-01, -9.0899e-02],\n",
       "        [ 1.1021e+00,  8.6115e-02,  5.7461e-01,  ...,  6.8800e-01,\n",
       "          5.6345e-01, -6.6278e-01]], grad_fn=<NativeLayerNormBackward0>)"
      ]
     },
     "execution_count": 43,
     "metadata": {},
     "output_type": "execute_result"
    }
   ],
   "source": [
    "z"
   ]
  },
  {
   "cell_type": "code",
   "execution_count": 44,
   "id": "f9f577c2-82dc-4187-856e-2d64f34630fa",
   "metadata": {
    "jupyter": {
     "source_hidden": true
    },
    "tags": [
     "skip-publish"
    ]
   },
   "outputs": [],
   "source": [
    "# Sanity check\n",
    "hiddens = transformer.model.distilbert(input_ids=batch.input_ids.to(device)).last_hidden_state.squeeze().to(\"cpu\")\n",
    "assert torch.allclose(z, hiddens, atol=1e-5)"
   ]
  },
  {
   "cell_type": "markdown",
   "id": "1f318a24-9dc4-4ba3-a369-3dcc231c4a3f",
   "metadata": {},
   "source": [
    "# Head\n",
    "\n",
    "As the final stage in the Transformer pipeline, Head maps the contextualized embeddings to task-specific predictions. In our case, the Head stage is responsible for turning the contextualized embeddings into a binary classifier that predicts whether the original text contains positive or negative sentiments. This sounds like a straightforward neural network output layer until you realize that instead of one set of features, we have a sequence of features. And the length of the sequence is arbitrary. How do you connect an arbitrary length sequence of feature vectors to an output layer?\n",
    "\n",
    "The trick is hiding in our contextualized embeddings. Each input embedding represents a single token in isolation. But the output embeddings have been infused with information from all of the tokens. This is why it's common practice to simply take the first output embedding and drop the rest. The first embedding represents the start of sequence marker `[CLS]`. Since the `[CLS]` marker token is added to every sequence, the first *input* embedding is always the same. In contrast, the first *output* embedding uniquely represents this specific sequence.\n",
    "\n",
    "If we take the first output embedding to represent the entire sequence, then we have a single feature vector that's easy to connect to any task-specific output layer we need."
   ]
  },
  {
   "cell_type": "code",
   "execution_count": 45,
   "id": "0cf5b65b-28b7-41be-9d48-a98f56d35e5c",
   "metadata": {},
   "outputs": [
    {
     "data": {
      "text/plain": [
       "torch.Size([768])"
      ]
     },
     "execution_count": 45,
     "metadata": {},
     "output_type": "execute_result"
    }
   ],
   "source": [
    "# Use [CLS] embedding to represent the entire sequence\n",
    "features = z[0]\n",
    "\n",
    "features.shape"
   ]
  },
  {
   "cell_type": "code",
   "execution_count": 46,
   "id": "babf146e-10c0-4a57-9ee2-6499e18ec6f4",
   "metadata": {},
   "outputs": [],
   "source": [
    "# Configure classifier head\n",
    "classifier = nn.Sequential(\n",
    "    nn.Linear(in_features=config.d_model, out_features=config.d_model),\n",
    "    nn.ReLU(),\n",
    "    nn.Linear(in_features=config.d_model, out_features=config.n_labels),\n",
    ")\n",
    "\n",
    "# Load pre-trained state\n",
    "load_state(classifier, \"classifier\")"
   ]
  },
  {
   "cell_type": "code",
   "execution_count": 47,
   "id": "875ada3a-42e6-42b2-9c6f-7b611a5252c6",
   "metadata": {},
   "outputs": [
    {
     "data": {
      "text/plain": [
       "0.9998118281364441"
      ]
     },
     "execution_count": 47,
     "metadata": {},
     "output_type": "execute_result"
    }
   ],
   "source": [
    "# Classify features\n",
    "prediction1 = torch.softmax(classifier(features), dim=-1)[1].item()\n",
    "prediction1"
   ]
  },
  {
   "cell_type": "code",
   "execution_count": 48,
   "id": "3209240f-d3c7-4445-a9f7-242043dc8830",
   "metadata": {},
   "outputs": [
    {
     "data": {
      "text/plain": [
       "0.9998118281364441"
      ]
     },
     "execution_count": 48,
     "metadata": {},
     "output_type": "execute_result"
    }
   ],
   "source": [
    "# Verify custom results match off-the-shelf ones\n",
    "prediction2 = transformer(\"I love ice cream\")[0][\"score\"]\n",
    "prediction2"
   ]
  },
  {
   "cell_type": "code",
   "execution_count": 49,
   "id": "a3f405e1-9b83-45b7-b318-36560da32f7b",
   "metadata": {},
   "outputs": [],
   "source": [
    "assert prediction1 == approx(prediction2)"
   ]
  },
  {
   "cell_type": "markdown",
   "id": "1266662a-c54e-438e-95ef-cb13eeaf463b",
   "metadata": {},
   "source": [
    "# Recap"
   ]
  },
  {
   "cell_type": "markdown",
   "id": "85a8c4e5-a16a-41b6-b515-52f1eb063cbe",
   "metadata": {},
   "source": [
    "We did it! We dissected an off-the-shelf, production-grade Transformer model, cataloged all the parts, and reassembled everything, tracing a single inference from the raw text \"I love ice cream\" to a positive sentiment prediction of `0.99`. Not only did we get the same positive prediction, we got the exact same answer as Hugging Face's production PyTorch code! That should give you confidence at least that we didn't leave any steps out.\n",
    "\n",
    "I hope you learned something about Transformers. In the very least, I hope they're a little less intimidating. Go take something else apart!"
   ]
  },
  {
   "cell_type": "markdown",
   "id": "fce44040-c06c-4bc2-afe3-7edccf5943db",
   "metadata": {},
   "source": [
    "# References\n",
    "\n",
    "Bengio, Yoshua, Réjean Ducharme, and Pascal Vincent. “A Neural Probabilistic Language Model.” In Advances in Neural Information Processing Systems, Vol. 13. MIT Press, 2000. <https://proceedings.neurips.cc/paper_files/paper/2000/hash/728f206c2a01bf572b5940d7d9a8fa4c-Abstract.html>.\n",
    "\n",
    "Devlin, Jacob, Ming-Wei Chang, Kenton Lee, and Kristina Toutanova. “BERT: Pre-Training of Deep Bidirectional Transformers for Language Understanding.” arXiv, May 24, 2019. <https://doi.org/10.48550/arXiv.1810.04805>.\n",
    "\n",
    "“Transformer Explainer: LLM Transformer Model Visually Explained.” Accessed August 29, 2024. <https://poloclub.github.io/transformer-explainer/>.\n",
    "\n",
    "Vaswani, Ashish, Noam Shazeer, Niki Parmar, Jakob Uszkoreit, Llion Jones, Aidan N. Gomez, Lukasz Kaiser, and Illia Polosukhin. “Attention Is All You Need.” arXiv, August 1, 2023. <https://doi.org/10.48550/arXiv.1706.03762>\n",
    "\n",
    "Xu, Peng, Xiatian Zhu, and David A. Clifton. “Multimodal Learning with Transformers: A Survey.” arXiv, May 9, 2023. <https://doi.org/10.48550/arXiv.2206.06488>."
   ]
  }
 ],
 "metadata": {
  "kernelspec": {
   "display_name": "Python 3 (ipykernel)",
   "language": "python",
   "name": "python3"
  },
  "language_info": {
   "codemirror_mode": {
    "name": "ipython",
    "version": 3
   },
   "file_extension": ".py",
   "mimetype": "text/x-python",
   "name": "python",
   "nbconvert_exporter": "python",
   "pygments_lexer": "ipython3",
   "version": "3.12.4"
  },
  "stickshift": {
   "description": "Tracing an inference from raw data to prediction",
   "title": "Transformer Teardown: DistilBERT"
  }
 },
 "nbformat": 4,
 "nbformat_minor": 5
}
